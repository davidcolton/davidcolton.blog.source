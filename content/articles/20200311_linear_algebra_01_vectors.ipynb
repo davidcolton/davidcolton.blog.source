{
 "cells": [
  {
   "cell_type": "markdown",
   "metadata": {},
   "source": [
    "- Author: David Colton\n",
    "- Date: 2020-03-15 01:00\n",
    "- Modified: 20-04-26 11:50\n",
    "- Category: maths\n",
    "- Tags: maths, python, linear_algebra\n",
    "- Title: Linear Algebra, Vectors and spaces, Vectors\n",
    "- Slug: vectors\n",
    "- Summary: An introduction to Vectors for Linear Algebra"
   ]
  },
  {
   "cell_type": "markdown",
   "metadata": {},
   "source": [
    "# Introduction\n",
    "\n",
    "This is the first blog post in my series on learning Linear Algebra. You can find the full set of post on this page:\n",
    "\n",
    "* [Linear Algebra](https://davidcolton.github.io/articles/2020/03/29/linear_algebra/)\n",
    "\n",
    "## Videos covered by this page\n",
    "\n",
    "The following vidoes are included in the material on this page.\n",
    "\n",
    "### Vectors and spaces\n",
    "\n",
    "1. [Vector intro for linear algebra](https://www.khanacademy.org/math/linear-algebra/vectors-and-spaces/vectors/v/vector-introduction-linear-algebra?modal=1)\n",
    "1. [Real coordinate spaces](https://www.khanacademy.org/math/linear-algebra/vectors-and-spaces/vectors/v/real-coordinate-spaces?modal=1)\n",
    "1. [Adding vectors algebraically & graphically](https://www.khanacademy.org/math/linear-algebra/vectors-and-spaces/vectors/v/adding-vectors?modal=1)\n",
    "1. [Multiplying vector by scalar](https://www.khanacademy.org/math/linear-algebra/vectors-and-spaces/vectors/v/multiplying-vector-by-scalar?modal=1)\n",
    "1. [Vector examples](https://www.khanacademy.org/math/linear-algebra/vectors-and-spaces/vectors/v/linear-algebra-vector-examples?modal=1)\n",
    "1. [Introduction to unit vector notation](https://www.khanacademy.org/math/linear-algebra/vectors-and-spaces/vectors/v/intro-unit-vector-notation?modal=1)\n",
    "1. [Linear algebra parametric representations of lines](https://www.khanacademy.org/math/linear-algebra/vectors-and-spaces/vectors/v/linear-algebra-parametric-representations-of-lines?modal=1)\n",
    "\n",
    "---"
   ]
  },
  {
   "cell_type": "markdown",
   "metadata": {},
   "source": [
    "## Let's get started\n",
    "\n",
    "The obvious object to use to represent a vector is a `List`. However, knowing what's to come I'll actually implement my vectors as [Numpy](https://numpy.org/) arrary. "
   ]
  },
  {
   "cell_type": "code",
   "execution_count": 1,
   "metadata": {},
   "outputs": [
    {
     "data": {
      "text/plain": [
       "[1, 4]"
      ]
     },
     "execution_count": 1,
     "metadata": {},
     "output_type": "execute_result"
    }
   ],
   "source": [
    "# Define a vector as a list and output the results\n",
    "list_vector = [1, 4]\n",
    "list_vector"
   ]
  },
  {
   "cell_type": "code",
   "execution_count": 2,
   "metadata": {},
   "outputs": [
    {
     "data": {
      "text/plain": [
       "array([5, 2])"
      ]
     },
     "execution_count": 2,
     "metadata": {},
     "output_type": "execute_result"
    }
   ],
   "source": [
    "# import Numpy\n",
    "import numpy as np\n",
    "\n",
    "# Define a vertor as a Numpy array and output the results\n",
    "simple_vector = np.array([5, 2])\n",
    "simple_vector"
   ]
  },
  {
   "cell_type": "markdown",
   "metadata": {},
   "source": [
    "## Sample vector in a markdown cell\n",
    "\n",
    "As mentioned before I also want to be able to see the maths equations for the concepts I'm learning. Here are some sample vectors \n",
    "\n",
    "$$\\vec{vector} \\in \\Re^2 = \\begin{bmatrix}5  \\\\\n",
    "2\n",
    "\\end{bmatrix}$$\n",
    "\n",
    "$$\\vec{vector} \\in \\Re^3 = \\begin{bmatrix}5  \\\\\n",
    "2 \\\\\n",
    "4\n",
    "\\end{bmatrix}$$"
   ]
  },
  {
   "cell_type": "markdown",
   "metadata": {},
   "source": [
    "### Vector Addition and Subtraction\n",
    "\n",
    "To add or subtract two vectors, add or subtract the corresponding components. The sum of two or more vectors is called the resultant. The resultant of two vectors can be found using either the parallelogram method or the triangle method. For additional reference see [Adding and Subtracting Vectors](https://www.varsitytutors.com/hotmath/hotmath_help/topics/adding-and-subtracting-vectors) "
   ]
  },
  {
   "cell_type": "markdown",
   "metadata": {},
   "source": [
    "#### Addition\n",
    "\n",
    "$$\n",
    "    \\vec{a} =\n",
    "    \\begin{bmatrix}\n",
    "    6 \\\\\n",
    "    -2\n",
    "    \\end{bmatrix}\n",
    "    \\vec{b} =\n",
    "    \\begin{bmatrix}\n",
    "    -4 \\\\\n",
    "    4\n",
    "    \\end{bmatrix}\n",
    "$$\n",
    "\n",
    "$$\n",
    "    \\vec{a} + \\vec{b} =\n",
    "    \\begin{bmatrix}\n",
    "    6 & + & -4 \\\\\n",
    "    -2 & + & 4\n",
    "    \\end{bmatrix}\n",
    "$$\n",
    "\n",
    "$$\n",
    "    \\vec{a} + \\vec{b} =\n",
    "    \\begin{bmatrix}\n",
    "    2 \\\\\n",
    "    2\n",
    "    \\end{bmatrix}\n",
    "$$\n",
    "\n",
    "#### Subtraction\n",
    "\n",
    "$$\n",
    "    \\vec{a} =\n",
    "    \\begin{bmatrix}\n",
    "    6 \\\\\n",
    "    -2\n",
    "    \\end{bmatrix}\n",
    "    \\vec{b} =\n",
    "    \\begin{bmatrix}\n",
    "    -4 \\\\\n",
    "    4\n",
    "    \\end{bmatrix}\n",
    "$$\n",
    "\n",
    "$$\n",
    "    \\vec{a} - \\vec{b} =\n",
    "    \\begin{bmatrix}\n",
    "    6 & - & -4 \\\\\n",
    "    -2 & - & 4\n",
    "    \\end{bmatrix}\n",
    "$$\n",
    "\n",
    "$$\n",
    "    \\vec{a} + \\vec{b} =\n",
    "    \\begin{bmatrix}\n",
    "    10 \\\\\n",
    "    -6\n",
    "    \\end{bmatrix}\n",
    "$$"
   ]
  },
  {
   "cell_type": "markdown",
   "metadata": {},
   "source": [
    "Now let's implement in Python."
   ]
  },
  {
   "cell_type": "code",
   "execution_count": 3,
   "metadata": {},
   "outputs": [
    {
     "name": "stdout",
     "output_type": "stream",
     "text": [
      "Vector a: [ 6 -2]\n",
      "Vector b: [-4  4]\n"
     ]
    }
   ],
   "source": [
    "# Import Numpy - for refence, only need to import once per script / notebook\n",
    "import numpy as np\n",
    "\n",
    "# Create vectors a and b\n",
    "a = np.array([6, -2])\n",
    "b = np.array([-4, 4])\n",
    "\n",
    "# Display vectors a and b\n",
    "print(f'Vector a: {a}')\n",
    "print(f'Vector b: {b}')"
   ]
  },
  {
   "cell_type": "code",
   "execution_count": 4,
   "metadata": {},
   "outputs": [
    {
     "name": "stdout",
     "output_type": "stream",
     "text": [
      "Vector c: [2 2]\n"
     ]
    }
   ],
   "source": [
    "# Add vector b to vector a and print result\n",
    "c = a + b\n",
    "print(f'Vector c: {c}')"
   ]
  },
  {
   "cell_type": "code",
   "execution_count": 5,
   "metadata": {},
   "outputs": [
    {
     "name": "stdout",
     "output_type": "stream",
     "text": [
      "Vector d: [2 2]\n"
     ]
    }
   ],
   "source": [
    "# Add vector a to vector b and print result\n",
    "d = b + a\n",
    "print(f'Vector d: {d}')"
   ]
  },
  {
   "cell_type": "code",
   "execution_count": 6,
   "metadata": {},
   "outputs": [
    {
     "name": "stdout",
     "output_type": "stream",
     "text": [
      "Vector e: [10 -6]\n"
     ]
    }
   ],
   "source": [
    "# Subtract vector b from vector a and print result\n",
    "e = a - b\n",
    "print(f'Vector e: {e}')"
   ]
  },
  {
   "cell_type": "code",
   "execution_count": 7,
   "metadata": {},
   "outputs": [
    {
     "name": "stdout",
     "output_type": "stream",
     "text": [
      "Vector f: [-10   6]\n"
     ]
    }
   ],
   "source": [
    "# Subtract vector a from vector b and print result\n",
    "f = b - a\n",
    "print(f'Vector f: {f}')"
   ]
  },
  {
   "cell_type": "markdown",
   "metadata": {},
   "source": [
    "Whilst vector `e` and `f` appear different, if you plot them both by anchoring them at the origin you'll see the magnitude of each of the vetors is the same but they point in differenet directions.\n",
    "\n",
    "From the Parallelogram Method and the also from the commutative property of real numbers under addition we can [Show that addition of vectors is commutative, i.e. A+B = B+A](https://socratic.org/answers/528403). The same applied to subtraction."
   ]
  },
  {
   "cell_type": "markdown",
   "metadata": {},
   "source": [
    "### Multipling a Vector by a Scalar\n",
    "\n",
    "When you multiple a vector by a scalar you simply multiple each of the vector components by the scalar. For additional reference see [How do I multiply a vector by a scalar?](https://socratic.org/questions/how-do-i-multiply-a-vector-by-a-scalar) "
   ]
  },
  {
   "cell_type": "markdown",
   "metadata": {},
   "source": [
    "$$\n",
    "    \\vec{a} =\n",
    "    \\begin{bmatrix}\n",
    "    6 \\\\\n",
    "    -2\n",
    "    \\end{bmatrix}\n",
    "$$\n",
    "\n",
    "$$\n",
    "    2 . \\vec{a} =\n",
    "    \\begin{bmatrix}\n",
    "    6 & . & 2 \\\\\n",
    "    -2 & . & 2\n",
    "    \\end{bmatrix}\n",
    "    = \n",
    "    \\begin{bmatrix}\n",
    "    12 \\\\\n",
    "    -4\n",
    "    \\end{bmatrix}\n",
    "$$"
   ]
  },
  {
   "cell_type": "markdown",
   "metadata": {},
   "source": [
    "Now let's implement in Python."
   ]
  },
  {
   "cell_type": "code",
   "execution_count": 8,
   "metadata": {},
   "outputs": [
    {
     "name": "stdout",
     "output_type": "stream",
     "text": [
      "Vector a: [ 6 -2]\n"
     ]
    }
   ],
   "source": [
    "# Import Numpy - for refence, only need to import once per script / notebook\n",
    "import numpy as np\n",
    "\n",
    "# Create vector a\n",
    "a = np.array([6, -2])\n",
    "\n",
    "# Display vectors a and b\n",
    "print(f'Vector a: {a}')"
   ]
  },
  {
   "cell_type": "code",
   "execution_count": 9,
   "metadata": {},
   "outputs": [
    {
     "name": "stdout",
     "output_type": "stream",
     "text": [
      "Vector c: [12 -4]\n"
     ]
    }
   ],
   "source": [
    "# Multiple vector by the scalar value 2\n",
    "c = a * 2\n",
    "print(f'Vector c: {c}')"
   ]
  },
  {
   "cell_type": "code",
   "execution_count": 10,
   "metadata": {},
   "outputs": [
    {
     "name": "stdout",
     "output_type": "stream",
     "text": [
      "Vector d: [-12   4]\n"
     ]
    }
   ],
   "source": [
    "# Multiple vector by the negative scalar value -2\n",
    "d = a * -2\n",
    "print(f'Vector d: {d}')"
   ]
  },
  {
   "cell_type": "markdown",
   "metadata": {},
   "source": [
    "### A more complicated $\\Re^4$ example\n",
    "\n",
    "$$\n",
    "    \\vec{a} =\n",
    "    \\begin{bmatrix}\n",
    "    0   \\\\\n",
    "    -1  \\\\\n",
    "    2   \\\\\n",
    "    3\n",
    "    \\end{bmatrix}\n",
    "    \\vec{b} =\n",
    "    \\begin{bmatrix}\n",
    "    4   \\\\\n",
    "    -2  \\\\\n",
    "    0   \\\\\n",
    "    5\n",
    "    \\end{bmatrix}\n",
    "$$\n",
    "\n",
    "$$\n",
    "    4\\vec{a} - 2\\vec{b} =\n",
    "    4\\begin{bmatrix}\n",
    "    0   \\\\\n",
    "    -1  \\\\\n",
    "    2   \\\\\n",
    "    3\n",
    "    \\end{bmatrix}\n",
    "    - \n",
    "    2\\begin{bmatrix}\n",
    "    4   \\\\\n",
    "    -2  \\\\\n",
    "    0   \\\\\n",
    "    5\n",
    "    \\end{bmatrix}\n",
    "    =\n",
    "    \\begin{bmatrix}\n",
    "    0   \\\\\n",
    "    -4  \\\\\n",
    "    8   \\\\\n",
    "    12\n",
    "    \\end{bmatrix}\n",
    "    - \n",
    "    \\begin{bmatrix}\n",
    "    8   \\\\\n",
    "    -4  \\\\\n",
    "    0   \\\\\n",
    "    10\n",
    "    \\end{bmatrix}\n",
    "    =\n",
    "    \\begin{bmatrix}\n",
    "    -8   \\\\\n",
    "    0  \\\\\n",
    "    8   \\\\\n",
    "    2\n",
    "    \\end{bmatrix}\n",
    "$$"
   ]
  },
  {
   "cell_type": "markdown",
   "metadata": {},
   "source": [
    "### Unit Vector Notation\n",
    "\n",
    "Unit vectors may be used to represent the axes of a Cartesian coordinate system. For instance, the unit vectors in the direction of the x, and y axes of a two dimensional Cartesian $\\Re^2$ coordinate system are as follows:\n",
    "\n",
    "$$\n",
    "    \\vec{i} =\n",
    "    \\begin{bmatrix}\n",
    "    1   \\\\\n",
    "    0   \\\\\n",
    "    \\end{bmatrix} , \n",
    "    \\vec{j} =\n",
    "    \\begin{bmatrix}\n",
    "    0   \\\\\n",
    "    1   \\\\\n",
    "    \\end{bmatrix}\n",
    "$$    \n",
    "    \n",
    "And the unit vectors in the direction of the x, y, and z axes of a three dimensional Cartesian $\\Re^3$ coordinate system are as follows:\n",
    "\n",
    "$$\n",
    "    \\vec{i} =\n",
    "    \\begin{bmatrix}\n",
    "    1   \\\\\n",
    "    0   \\\\\n",
    "    0\n",
    "    \\end{bmatrix} , \n",
    "    \\vec{j} =\n",
    "    \\begin{bmatrix}\n",
    "    0   \\\\\n",
    "    1   \\\\\n",
    "    0\n",
    "    \\end{bmatrix} , \n",
    "    \\vec{k} =\n",
    "    \\begin{bmatrix}\n",
    "    0   \\\\\n",
    "    0   \\\\\n",
    "    1\n",
    "    \\end{bmatrix}\n",
    "$$\n",
    "\n",
    "Which all means that an $\\Re^2$ vector can be written in the form of the unit vectors meaning:\n",
    "\n",
    "$$\n",
    "    \\vec{v} =\n",
    "    \\begin{bmatrix}\n",
    "    2   \\\\\n",
    "    3\n",
    "    \\end{bmatrix} \n",
    "    = \n",
    "    2\\vec{i} + 3\\vec{j} \n",
    "    =\n",
    "    2\\begin{bmatrix}\n",
    "    1   \\\\\n",
    "    0\n",
    "    \\end{bmatrix}\n",
    "    + \n",
    "    3\n",
    "    \\begin{bmatrix}\n",
    "    0   \\\\\n",
    "    1\n",
    "    \\end{bmatrix}\n",
    "    =\n",
    "    \\begin{bmatrix}\n",
    "    2   \\\\\n",
    "    3\n",
    "    \\end{bmatrix} \n",
    "$$  \n",
    "\n",
    "Or an $\\Re^3$ vector can be written in the form of the unit vectors like this:\n",
    "\n",
    "$$\n",
    "    \\vec{v} =\n",
    "    \\begin{bmatrix}\n",
    "    2   \\\\\n",
    "    3   \\\\\n",
    "    4\n",
    "    \\end{bmatrix} \n",
    "    = \n",
    "    2\\vec{i} + 3\\vec{j} + 4\\vec{k}\n",
    "    =\n",
    "    2\\begin{bmatrix}\n",
    "    1   \\\\\n",
    "    0   \\\\\n",
    "    0\n",
    "    \\end{bmatrix}\n",
    "    + \n",
    "    3\n",
    "    \\begin{bmatrix}\n",
    "    0   \\\\\n",
    "    1   \\\\\n",
    "    0\n",
    "    \\end{bmatrix}\n",
    "    + \n",
    "    4\n",
    "    \\begin{bmatrix}\n",
    "    0   \\\\\n",
    "    0   \\\\\n",
    "    1\n",
    "    \\end{bmatrix}\n",
    "    =\n",
    "    \\begin{bmatrix}\n",
    "    2   \\\\\n",
    "    3   \\\\\n",
    "    4\n",
    "    \\end{bmatrix} \n",
    "$$ "
   ]
  },
  {
   "cell_type": "markdown",
   "metadata": {},
   "source": [
    "Now let's implement in Python."
   ]
  },
  {
   "cell_type": "code",
   "execution_count": 11,
   "metadata": {},
   "outputs": [
    {
     "name": "stdout",
     "output_type": "stream",
     "text": [
      "Vector i: [1 0]\n",
      "Vector j: [0 1]\n"
     ]
    }
   ],
   "source": [
    "# Import Numpy - for refence, only need to import once per script / notebook\n",
    "import numpy as np\n",
    "\n",
    "# Create vectors i & j\n",
    "i = np.array([1, 0])\n",
    "j = np.array([0, 1])\n",
    "\n",
    "# Display vectors i and j\n",
    "print(f'Vector i: {i}')\n",
    "print(f'Vector j: {j}')"
   ]
  },
  {
   "cell_type": "code",
   "execution_count": 12,
   "metadata": {},
   "outputs": [
    {
     "name": "stdout",
     "output_type": "stream",
     "text": [
      "Vector v: [2 3]\n"
     ]
    }
   ],
   "source": [
    "# Now create vector v\n",
    "v = (2 * i) + (3 * j)\n",
    "\n",
    "print(f'Vector v: {v}')"
   ]
  },
  {
   "cell_type": "code",
   "execution_count": 13,
   "metadata": {},
   "outputs": [
    {
     "name": "stdout",
     "output_type": "stream",
     "text": [
      "Vector i: [1 0 0]\n",
      "Vector j: [0 1 0]\n",
      "Vector k: [0 0 1]\n"
     ]
    }
   ],
   "source": [
    "# Create R3 unit vectors i, j & k\n",
    "i = np.array([1, 0, 0])\n",
    "j = np.array([0, 1, 0])\n",
    "k = np.array([0, 0, 1])\n",
    "\n",
    "# Display vectors i and j\n",
    "print(f'Vector i: {i}')\n",
    "print(f'Vector j: {j}')\n",
    "print(f'Vector k: {k}')"
   ]
  },
  {
   "cell_type": "code",
   "execution_count": 14,
   "metadata": {},
   "outputs": [
    {
     "name": "stdout",
     "output_type": "stream",
     "text": [
      "Vector v: [2 3 4]\n"
     ]
    }
   ],
   "source": [
    "# Now create vector v\n",
    "v = (2 * i) + (3 * j) + (4 * k)\n",
    "\n",
    "print(f'Vector v: {v}')"
   ]
  },
  {
   "cell_type": "markdown",
   "metadata": {},
   "source": [
    "### Parametric representation of lines\n",
    "\n",
    "Okay this needed a bit of thought an a lot of additional reference study. These are only very rough notes.\n",
    "\n",
    "Standard position: The origin `(0, 0)`  \n",
    "Set of Co-linear Position Vectors in the standard position $S = \\{c\\vec{V} | c \\in \\Re \\}$\n",
    "\n",
    "Set of Co-linear Position Vectors $L = \\{ \\vec{X} + t\\vec{V} | t \\in \\Re \\}$ where:\n",
    "* $\\vec{V}$ is a vector in the stand position\n",
    "* $\\vec{X}$ is a position vector offset"
   ]
  },
  {
   "cell_type": "markdown",
   "metadata": {},
   "source": [
    "So given two positional vectors $\\vec{a}$ and $\\vec{b}$ placed at the origin:\n",
    "\n",
    "$$\n",
    "    \\vec{a} =\n",
    "    \\begin{bmatrix}\n",
    "    2 \\\\\n",
    "    1\n",
    "    \\end{bmatrix}\n",
    "    ,\n",
    "    \\vec{b}\n",
    "    \\begin{bmatrix}\n",
    "    0 \\\\\n",
    "    3\n",
    "    \\end{bmatrix}\n",
    "$$\n",
    "\n",
    "Give me the parametric representation of the line that goes through the endpoint of each vector i.e. a line that goes through the points (2, 1) & (0, 3)"
   ]
  },
  {
   "cell_type": "markdown",
   "metadata": {},
   "source": [
    "From earlier vector subtraction we know that $\\vec{b} - \\vec{a}$ represents the vector $\\vec{c}$ which is the different between the two vectors $\\vec{a}$ and $\\vec{b}$. If we then multiple $\\vec{c}$ by a scalar $t$ we get any point in the line $\\vec{c}$. But this only represents the set of points for $\\vec{c}$ at the standard position i.e. through the origin. To offset $\\vec{c}$ from the origin to pass through the endpoints of $\\vec{a}$ and $\\vec{b}$ we either need to additionally add either $\\vec{a}$ or $\\vec{b}$. \n",
    "\n",
    "The set of Co-linear Position Vectors in the standard position (standard form) for $\\vec{c}$ $ = \\{t\\vec{c} | t \\in \\Re \\}$ which is equal to $t(\\vec{b} - \\vec{a})$\n",
    "\n",
    "So:\n",
    "\n",
    "$$\n",
    "    \\vec{a} =\n",
    "    \\begin{bmatrix}\n",
    "    2 \\\\\n",
    "    1\n",
    "    \\end{bmatrix}\n",
    "    ,\n",
    "    \\vec{b}\n",
    "    \\begin{bmatrix}\n",
    "    0 \\\\\n",
    "    3\n",
    "    \\end{bmatrix}\n",
    "$$\n",
    "\n",
    "$$\n",
    "    \\vec{c}\n",
    "    =\n",
    "    \\vec{b}\n",
    "    \\begin{bmatrix}\n",
    "    2 \\\\\n",
    "    1\n",
    "    \\end{bmatrix}\n",
    "    -\n",
    "    \\vec{a}\n",
    "    \\begin{bmatrix}\n",
    "    0 \\\\\n",
    "    3\n",
    "    \\end{bmatrix}\n",
    "    =\n",
    "    \\begin{bmatrix}\n",
    "    -2 \\\\\n",
    "    2\n",
    "    \\end{bmatrix}\n",
    "$$"
   ]
  },
  {
   "cell_type": "markdown",
   "metadata": {},
   "source": [
    "But this vector $\\vec{c}$ is the standard position as previously mentions. So by including an offset of $\\vec{a}$ or $\\vec{b}$ The line $L$ that represents the set of all colinear points on the vector $\\vec{c}$ we get:\n",
    "\n",
    "$$L = \\{\\vec{b} + t(\\vec{b} - \\vec{a} ) | t \\in \\Re\\}$$\n",
    "\n",
    "or\n",
    "\n",
    "$$L = \\{\\vec{a} + t(\\vec{a} - \\vec{b} ) | t \\in \\Re\\}$$"
   ]
  },
  {
   "cell_type": "markdown",
   "metadata": {},
   "source": [
    "So taking the first definition:\n",
    "\n",
    "$$\n",
    "    L = \\Biggl\\{ \n",
    "    \\begin{bmatrix}\n",
    "    0 \\\\\n",
    "    3\n",
    "    \\end{bmatrix}\n",
    "    + t\n",
    "    \\begin{bmatrix}\n",
    "    -2 \\\\\n",
    "    2\n",
    "    \\end{bmatrix}\n",
    "    | t \\in \\Re \\Biggl\\}\n",
    "$$"
   ]
  },
  {
   "cell_type": "markdown",
   "metadata": {},
   "source": [
    "Then to produce the parametric equation of the line that goes through the vector $\\vec{b}$ - $\\vec{a}$ we get:\n",
    "\n",
    "$$x = 0 + (t\\dot-2) $$ \n",
    "$$y = 3 + (t\\dot2) $$ \n",
    "\n",
    "$$x = -2t $$ \n",
    "$$y = 2t + 3 $$ "
   ]
  },
  {
   "cell_type": "markdown",
   "metadata": {},
   "source": [
    "This then scales to $\\Re^3$ and beyond (here we use the second definition of the set of points from above):"
   ]
  },
  {
   "cell_type": "markdown",
   "metadata": {},
   "source": [
    "$$\n",
    "    \\vec{P_1} = \n",
    "    \\begin{bmatrix}\n",
    "    -1 \\\\\n",
    "    2  \\\\\n",
    "    7\n",
    "    \\end{bmatrix}\n",
    "    \\vec{P_2} = \n",
    "    \\begin{bmatrix}\n",
    "    0 \\\\\n",
    "    3 \\\\\n",
    "    4\n",
    "    \\end{bmatrix}\n",
    "$$\n",
    "\n",
    "$$\n",
    "    L = \\Bigl\\{ \n",
    "    \\vec{P_1} +\n",
    "    t\n",
    "    (\\vec{P_1} - \\vec{P_2}\n",
    "    | t \\in \\Re \\Bigl\\}\n",
    "$$\n",
    "\n",
    "$$\n",
    "    L = \\Biggl\\{ \n",
    "    \\begin{bmatrix}\n",
    "    -1 \\\\\n",
    "    2  \\\\\n",
    "    7\n",
    "    \\end{bmatrix}    \n",
    "    + t\n",
    "    \\begin{bmatrix}\n",
    "    -1 \\\\\n",
    "    -1  \\\\\n",
    "    3\n",
    "    \\end{bmatrix}    \n",
    "    | t \\in \\Re \\Biggl\\}\n",
    "$$\n",
    "\n",
    "Which give our parametric equations:\n",
    "\n",
    "$$x = -1 -t$$ \n",
    "$$y = 2  -t$$ \n",
    "$$y = 7 + 3t$$ "
   ]
  },
  {
   "cell_type": "markdown",
   "metadata": {},
   "source": [
    "---\n",
    "\n",
    "## Practice\n",
    "\n",
    "Following the videos above there was a series of practice tests.\n",
    "\n",
    "### Scalar Multiplication"
   ]
  },
  {
   "cell_type": "code",
   "execution_count": 15,
   "metadata": {},
   "outputs": [
    {
     "name": "stdout",
     "output_type": "stream",
     "text": [
      "[-9 15]\n"
     ]
    }
   ],
   "source": [
    "import numpy as np\n",
    "\n",
    "# Question 1\n",
    "w = np.array([-3, 5])\n",
    "\n",
    "# what is 3w\n",
    "print(f'{3 * w}')"
   ]
  },
  {
   "cell_type": "code",
   "execution_count": 16,
   "metadata": {},
   "outputs": [
    {
     "name": "stdout",
     "output_type": "stream",
     "text": [
      "[-4 -8]\n"
     ]
    }
   ],
   "source": [
    "# Question 2\n",
    "v = np.array([-2, -4])\n",
    "\n",
    "# what is 2v\n",
    "print(f'{2 * v}')"
   ]
  },
  {
   "cell_type": "code",
   "execution_count": 17,
   "metadata": {},
   "outputs": [
    {
     "name": "stdout",
     "output_type": "stream",
     "text": [
      "[-12  -8]\n"
     ]
    }
   ],
   "source": [
    "# Question 3\n",
    "u = np.array([3, 2])\n",
    "\n",
    "# what is -4u\n",
    "print(f'{-4 * u}')"
   ]
  },
  {
   "cell_type": "code",
   "execution_count": 18,
   "metadata": {},
   "outputs": [
    {
     "name": "stdout",
     "output_type": "stream",
     "text": [
      "[ 9 -3]\n"
     ]
    }
   ],
   "source": [
    "# Question 4\n",
    "t = np.array([-3, 1])\n",
    "\n",
    "# what is -3t\n",
    "print(f'{-3 * t}')"
   ]
  },
  {
   "cell_type": "markdown",
   "metadata": {},
   "source": [
    "### Unit vectors"
   ]
  },
  {
   "cell_type": "markdown",
   "metadata": {},
   "source": [
    "##### Question 1:\n",
    "Find the unit vector in the direction of $\\vec{v} = (7, -3)$:\n",
    "\n",
    "$$ \\Bigg( \\frac{7}{\\sqrt{7^2 + (-3)^2}}, -\\frac{3}{\\sqrt{7^2 + (-3)^2}} \\Bigg)$$\n",
    "$$ \\Bigg( \\frac{7}{\\sqrt{58}}, -\\frac{3}{\\sqrt{58}} \\Bigg)$$\n",
    "\n",
    "##### Question 2:\n",
    "Find the unit vector in the direction of $\\vec{v} = (-7, 6)$:\n",
    "\n",
    "$$ \\Bigg( -\\frac{7}{\\sqrt{85}}, \\frac{6}{\\sqrt{85}} \\Bigg)$$\n",
    "\n",
    "##### Question 3:\n",
    "Find the unit vector in the direction of $\\vec{v} = (5, -2)$:\n",
    "\n",
    "$$ \\Bigg( \\frac{5}{\\sqrt{29}}, -\\frac{2}{\\sqrt{29}} \\Bigg)$$\n",
    "\n",
    "##### Question 4:\n",
    "Find the unit vector in the direction of $\\vec{v} = (-5, 5)$:\n",
    "\n",
    "$$ \\Bigg( -\\frac{5}{\\sqrt{50}}, \\frac{5}{\\sqrt{50}} \\Bigg)$$"
   ]
  },
  {
   "cell_type": "markdown",
   "metadata": {},
   "source": [
    "### Adding and Subtracting Vectors"
   ]
  },
  {
   "cell_type": "code",
   "execution_count": 19,
   "metadata": {},
   "outputs": [
    {
     "name": "stdout",
     "output_type": "stream",
     "text": [
      "[-12  15]\n"
     ]
    }
   ],
   "source": [
    "import numpy as np\n",
    "\n",
    "# Question 1\n",
    "u = np.array([-9, 10])\n",
    "w = np.array([3, -5])\n",
    "\n",
    "# what is u - w\n",
    "print(f'{u - w}')"
   ]
  },
  {
   "cell_type": "code",
   "execution_count": 20,
   "metadata": {},
   "outputs": [
    {
     "name": "stdout",
     "output_type": "stream",
     "text": [
      "[ 9 -1]\n"
     ]
    }
   ],
   "source": [
    "# Question 2\n",
    "u = np.array([1, -5])\n",
    "w = np.array([8, 4])\n",
    "\n",
    "# what is u + w\n",
    "print(f'{u + w}')"
   ]
  },
  {
   "cell_type": "code",
   "execution_count": 21,
   "metadata": {},
   "outputs": [
    {
     "name": "stdout",
     "output_type": "stream",
     "text": [
      "[-1 -1]\n"
     ]
    }
   ],
   "source": [
    "# Question 3\n",
    "u = np.array([6, 5])\n",
    "w = np.array([5, 4])\n",
    "\n",
    "# what is w - u\n",
    "print(f'{w - u}')"
   ]
  },
  {
   "cell_type": "code",
   "execution_count": 22,
   "metadata": {},
   "outputs": [
    {
     "name": "stdout",
     "output_type": "stream",
     "text": [
      "[6 4]\n"
     ]
    }
   ],
   "source": [
    "# Question 4\n",
    "u = np.array([-1, -7])\n",
    "w = np.array([7, 11])\n",
    "\n",
    "# what is u + w\n",
    "print(f'{u + w}')"
   ]
  },
  {
   "attachments": {
    "image.png": {
     "image/png": "[encoded data removed]"
    }
   },
   "cell_type": "markdown",
   "metadata": {},
   "source": [
    "### Add vectors: magnitude & direction to component\n",
    "\n",
    "Before completing this section of questions I heed to take a refresher on triganometry. This the the recommended set of videos from Khan Academy and for me they did the job:\n",
    "\n",
    "* [Adding vectors in magnitude & direction](https://www.khanacademy.org/video/mag-dir-vec-)\n",
    "\n",
    "This little video series is part of the wider Precalculus module that I may need to go back and take in whole if I continue to run into these types of problems.\n",
    "\n",
    "##### Question 1:\n",
    "![image.png](attachment:image.png)\n",
    "\n",
    "So  \n",
    "* The angle $\\theta$ for $\\vec{v}$ to the $x$ axis is $10^\\circ$\n",
    "  * $x$ component of $\\vec{v}$ is negative\n",
    "  * $y$ component of $\\vec{v}$ is positive\n",
    "* The angle $\\theta$ for $\\vec{w}$ to the $y$ axis is $30^\\circ$\n",
    "  * $x$ component of $\\vec{w}$ is positive\n",
    "  * $y$ component of $\\vec{w}$ is negative"
   ]
  },
  {
   "cell_type": "markdown",
   "metadata": {},
   "source": [
    "import math\n",
    "import numpy as np"
   ]
  },
  {
   "cell_type": "code",
   "execution_count": 23,
   "metadata": {},
   "outputs": [
    {
     "data": {
      "text/plain": [
       "array([-4.92403877,  0.86824089])"
      ]
     },
     "execution_count": 23,
     "metadata": {},
     "output_type": "execute_result"
    }
   ],
   "source": [
    "import math\n",
    "\n",
    "adj_v = math.cos(math.radians(10)) * 5\n",
    "opp_v = math.sin(math.radians(10)) * 5\n",
    "v = np.array([-adj_v, opp_v])\n",
    "v"
   ]
  },
  {
   "cell_type": "code",
   "execution_count": 24,
   "metadata": {},
   "outputs": [
    {
     "data": {
      "text/plain": [
       "array([ 4.        , -6.92820323])"
      ]
     },
     "execution_count": 24,
     "metadata": {},
     "output_type": "execute_result"
    }
   ],
   "source": [
    "opp_w = math.sin(math.radians(30)) * 8\n",
    "adj_w = math.cos(math.radians(30)) * 8\n",
    "w = np.array([opp_w, -adj_w])\n",
    "w"
   ]
  },
  {
   "cell_type": "code",
   "execution_count": 25,
   "metadata": {},
   "outputs": [
    {
     "data": {
      "text/plain": [
       "array([-0.92, -6.06])"
      ]
     },
     "execution_count": 25,
     "metadata": {},
     "output_type": "execute_result"
    }
   ],
   "source": [
    "(v + w).round(2)"
   ]
  },
  {
   "cell_type": "markdown",
   "metadata": {},
   "source": [
    "##### Question 2\n",
    "\n",
    "The magnitude and direction angle of $\\vec{v}$ and $\\vec{w}$ are given below in the form $(r, \\theta)$ where $r$ is the magnitude and $\\theta$ is the direction angle.\n",
    "\n",
    "* $\\vec{v}$ = $(8, 20^\\circ)$ \n",
    "* $\\vec{w}$ = $(5, 240^\\circ)$ \n",
    "\n",
    "Find the component form of $\\vec{v}$ + $\\vec{w}$.\n",
    "\n",
    "So  \n",
    "* The angle $\\theta$ for $\\vec{v}$ to the $x$ axis is $20^\\circ$\n",
    "  * $x$ component of $\\vec{v}$ is positive\n",
    "  * $y$ component of $\\vec{v}$ is positive\n",
    "* The angle $\\theta$ for $\\vec{w}$ to the $y$ axis is $30^\\circ$\n",
    "  * $x$ component of $\\vec{w}$ is negative\n",
    "  * $y$ component of $\\vec{w}$ is negative"
   ]
  },
  {
   "cell_type": "code",
   "execution_count": 26,
   "metadata": {},
   "outputs": [
    {
     "data": {
      "text/plain": [
       "array([7.51754097, 2.73616115])"
      ]
     },
     "execution_count": 26,
     "metadata": {},
     "output_type": "execute_result"
    }
   ],
   "source": [
    "adj_v = math.cos(math.radians(20)) * 8\n",
    "opp_v = math.sin(math.radians(20)) * 8\n",
    "v = np.array([adj_v, opp_v])\n",
    "v"
   ]
  },
  {
   "cell_type": "code",
   "execution_count": 27,
   "metadata": {},
   "outputs": [
    {
     "data": {
      "text/plain": [
       "array([-2.5       , -4.33012702])"
      ]
     },
     "execution_count": 27,
     "metadata": {},
     "output_type": "execute_result"
    }
   ],
   "source": [
    "opp_w = math.sin(math.radians(30)) * 5\n",
    "adj_w = math.cos(math.radians(30)) * 5\n",
    "w = np.array([-opp_w, -adj_w])\n",
    "w"
   ]
  },
  {
   "cell_type": "code",
   "execution_count": 28,
   "metadata": {},
   "outputs": [
    {
     "data": {
      "text/plain": [
       "array([ 5.02, -1.59])"
      ]
     },
     "execution_count": 28,
     "metadata": {},
     "output_type": "execute_result"
    }
   ],
   "source": [
    "(v + w).round(2)"
   ]
  },
  {
   "cell_type": "markdown",
   "metadata": {},
   "source": [
    "##### Question 3\n",
    "\n",
    "The magnitude and direction angle of $\\vec{v}$ and $\\vec{w}$ are given below in the form $(r, \\theta)$ where $r$ is the magnitude and $\\theta$ is the direction angle.\n",
    "\n",
    "* $\\vec{v}$ = $(7, 30^\\circ)$ \n",
    "* $\\vec{w}$ = $(4, 140^\\circ)$ \n",
    "\n",
    "Find the component form of $\\vec{v}$ + $\\vec{w}$.\n",
    "\n",
    "So  \n",
    "* The angle $\\theta$ for $\\vec{v}$ to the $x$ axis is $30^\\circ$\n",
    "  * $x$ component of $\\vec{v}$ is positive\n",
    "  * $y$ component of $\\vec{v}$ is positive\n",
    "* The angle $\\theta$ for $\\vec{w}$ to the $y$ axis is $50^\\circ$\n",
    "  * $x$ component of $\\vec{w}$ is negative\n",
    "  * $y$ component of $\\vec{w}$ is positive"
   ]
  },
  {
   "cell_type": "code",
   "execution_count": 29,
   "metadata": {},
   "outputs": [
    {
     "data": {
      "text/plain": [
       "array([6.06217783, 3.5       ])"
      ]
     },
     "execution_count": 29,
     "metadata": {},
     "output_type": "execute_result"
    }
   ],
   "source": [
    "adj_v = math.cos(math.radians(30)) * 7\n",
    "opp_v = math.sin(math.radians(30)) * 7\n",
    "v = np.array([adj_v, opp_v])\n",
    "v"
   ]
  },
  {
   "cell_type": "code",
   "execution_count": 30,
   "metadata": {},
   "outputs": [
    {
     "data": {
      "text/plain": [
       "array([-3.06417777,  2.57115044])"
      ]
     },
     "execution_count": 30,
     "metadata": {},
     "output_type": "execute_result"
    }
   ],
   "source": [
    "opp_w = math.sin(math.radians(50)) * 4\n",
    "adj_w = math.cos(math.radians(50)) * 4\n",
    "w = np.array([-opp_w, adj_w])\n",
    "w"
   ]
  },
  {
   "cell_type": "code",
   "execution_count": 31,
   "metadata": {},
   "outputs": [
    {
     "data": {
      "text/plain": [
       "array([3.  , 6.07])"
      ]
     },
     "execution_count": 31,
     "metadata": {},
     "output_type": "execute_result"
    }
   ],
   "source": [
    "(v + w).round(2)"
   ]
  },
  {
   "attachments": {
    "image.png": {
     "image/png": "[encoded data removed]"
    }
   },
   "cell_type": "markdown",
   "metadata": {},
   "source": [
    "Worked solution for Question 3:\n",
    "\n",
    "![image.png](attachment:image.png)"
   ]
  },
  {
   "attachments": {
    "image.png": {
     "image/png": "[encoded data removed]"
    }
   },
   "cell_type": "markdown",
   "metadata": {},
   "source": [
    "##### Question 4:\n",
    "\n",
    "![image.png](attachment:image.png)\n",
    "\n",
    "So  \n",
    "* The angle $\\theta$ for $\\vec{v}$ to the $x$ axis is $10^\\circ$\n",
    "  * $x$ component of $\\vec{v}$ is negative\n",
    "  * $y$ component of $\\vec{v}$ is positive\n",
    "* The angle $\\theta$ for $\\vec{w}$ to the $y$ axis is $10^\\circ$\n",
    "  * $x$ component of $\\vec{w}$ is negative\n",
    "  * $y$ component of $\\vec{w}$ is negative"
   ]
  },
  {
   "cell_type": "code",
   "execution_count": 32,
   "metadata": {},
   "outputs": [
    {
     "data": {
      "text/plain": [
       "array([-4.92403877,  0.86824089])"
      ]
     },
     "execution_count": 32,
     "metadata": {},
     "output_type": "execute_result"
    }
   ],
   "source": [
    "adj_v = math.cos(math.radians(10)) * 5\n",
    "opp_v = math.sin(math.radians(10)) * 5\n",
    "v = np.array([-adj_v, opp_v])\n",
    "v"
   ]
  },
  {
   "cell_type": "code",
   "execution_count": 33,
   "metadata": {},
   "outputs": [
    {
     "data": {
      "text/plain": [
       "array([-1.04188907, -5.90884652])"
      ]
     },
     "execution_count": 33,
     "metadata": {},
     "output_type": "execute_result"
    }
   ],
   "source": [
    "opp_w = math.sin(math.radians(10)) * 6\n",
    "adj_w = math.cos(math.radians(10)) * 6\n",
    "w = np.array([-opp_w, -adj_w])\n",
    "w"
   ]
  },
  {
   "cell_type": "code",
   "execution_count": 34,
   "metadata": {},
   "outputs": [
    {
     "data": {
      "text/plain": [
       "array([-5.97, -5.04])"
      ]
     },
     "execution_count": 34,
     "metadata": {},
     "output_type": "execute_result"
    }
   ],
   "source": [
    "(v + w).round(2)"
   ]
  }
 ],
 "metadata": {
  "kernelspec": {
   "display_name": "Python 3",
   "language": "python",
   "name": "python3"
  },
  "language_info": {
   "codemirror_mode": {
    "name": "ipython",
    "version": 3
   },
   "file_extension": ".py",
   "mimetype": "text/x-python",
   "name": "python",
   "nbconvert_exporter": "python",
   "pygments_lexer": "ipython3",
   "version": "3.8.1"
  }
 },
 "nbformat": 4,
 "nbformat_minor": 4
}
